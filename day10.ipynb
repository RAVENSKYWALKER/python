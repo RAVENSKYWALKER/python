{
 "cells": [
  {
   "cell_type": "markdown",
   "metadata": {},
   "source": [
    "## function to replace file and write some data"
   ]
  },
  {
   "cell_type": "code",
   "execution_count": 7,
   "metadata": {},
   "outputs": [
    {
     "name": "stdout",
     "output_type": "stream",
     "text": [
      "The file is created and data is stored\n",
      "The file is created and data is stored\n"
     ]
    }
   ],
   "source": [
    "def create(filename):\n",
    "    f=open(filename,'w')\n",
    "    for i in range(10):\n",
    "        f.write('This is %d line\\n'%i)\n",
    "    print('The file is created and data is stored')\n",
    "    f.close()\n",
    "    return\n",
    "create('charith')\n",
    "create('chinmay.txt')            \n",
    "        "
   ]
  },
  {
   "cell_type": "markdown",
   "metadata": {},
   "source": [
    "# read files"
   ]
  },
  {
   "cell_type": "code",
   "execution_count": 8,
   "metadata": {},
   "outputs": [
    {
     "name": "stdout",
     "output_type": "stream",
     "text": [
      "This is 0 line\n",
      "This is 1 line\n",
      "This is 2 line\n",
      "This is 3 line\n",
      "This is 4 line\n",
      "This is 5 line\n",
      "This is 6 line\n",
      "This is 7 line\n",
      "This is 8 line\n",
      "This is 9 line\n",
      "\n"
     ]
    }
   ],
   "source": [
    "def read(filename):\n",
    "    f=open(filename,'r')\n",
    "    if(f.mode=='r'):\n",
    "        x=f.read()\n",
    "        print(x)\n",
    "    f.close()\n",
    "    return\n",
    "read('chinmay.txt')"
   ]
  },
  {
   "cell_type": "markdown",
   "metadata": {},
   "source": [
    "## append a function"
   ]
  },
  {
   "cell_type": "code",
   "execution_count": 9,
   "metadata": {},
   "outputs": [
    {
     "name": "stdout",
     "output_type": "stream",
     "text": [
      "data is apended\n",
      "This is 0 line\n",
      "This is 1 line\n",
      "This is 2 line\n",
      "This is 3 line\n",
      "This is 4 line\n",
      "This is 5 line\n",
      "This is 6 line\n",
      "This is 7 line\n",
      "This is 8 line\n",
      "This is 9 line\n",
      "new line\n",
      "newline\n"
     ]
    }
   ],
   "source": [
    "def ad(filename):\n",
    "    f=open(filename,'a')\n",
    "    f.write('new line\\n')\n",
    "    f.write('newline')\n",
    "    print('data is apended')\n",
    "    return\n",
    "ad('charith')\n",
    "read('charith')\n",
    "    "
   ]
  },
  {
   "cell_type": "markdown",
   "metadata": {},
   "source": [
    "## uppercase count"
   ]
  },
  {
   "cell_type": "code",
   "execution_count": 10,
   "metadata": {},
   "outputs": [
    {
     "name": "stdout",
     "output_type": "stream",
     "text": [
      "10\n",
      "10\n"
     ]
    }
   ],
   "source": [
    "def cou(filename): \n",
    "    countupper=0\n",
    "    f=open(filename)\n",
    "    if (f.mode=='r'):\n",
    "        x=f.read()\n",
    "        lst=list(x)\n",
    "    for i in lst:\n",
    "        if i.isupper():\n",
    "            countupper+=1\n",
    "    return countupper\n",
    "print(cou('chinmay.txt'))\n",
    "print(cou('charith'))"
   ]
  },
  {
   "cell_type": "code",
   "execution_count": 11,
   "metadata": {},
   "outputs": [
    {
     "name": "stdout",
     "output_type": "stream",
     "text": [
      "90\n",
      "104\n"
     ]
    }
   ],
   "source": [
    "def cou(filename): \n",
    "    countupper=0\n",
    "    f=open(filename)\n",
    "    if (f.mode=='r'):\n",
    "        x=f.read()\n",
    "        lst=list(x)\n",
    "    for i in lst:\n",
    "        if i.islower():\n",
    "            countupper+=1\n",
    "    return countupper\n",
    "print(cou('chinmay.txt'))\n",
    "print(cou('charith'))"
   ]
  },
  {
   "cell_type": "code",
   "execution_count": 12,
   "metadata": {},
   "outputs": [
    {
     "name": "stdout",
     "output_type": "stream",
     "text": [
      "40\n",
      "42\n"
     ]
    }
   ],
   "source": [
    "def cou(filename): \n",
    "    countupper=0\n",
    "    f=open(filename)\n",
    "    if (f.mode=='r'):\n",
    "        x=f.read()\n",
    "        lst=list(x)\n",
    "    for i in lst:\n",
    "        if i.isspace():\n",
    "            countupper+=1\n",
    "    return countupper\n",
    "print(cou('chinmay.txt'))\n",
    "print(cou('charith'))"
   ]
  },
  {
   "cell_type": "code",
   "execution_count": 13,
   "metadata": {},
   "outputs": [
    {
     "name": "stdout",
     "output_type": "stream",
     "text": [
      "12\n"
     ]
    }
   ],
   "source": [
    "def cc(fn):\n",
    "    f=open(fn,'r')\n",
    "    if f.mode=='r':\n",
    "        x=f.read()\n",
    "        lst=x.split('\\n')\n",
    "    return len(lst)\n",
    "print(cc('charith'))\n"
   ]
  },
  {
   "cell_type": "markdown",
   "metadata": {},
   "source": [
    "## regular expressions"
   ]
  },
  {
   "cell_type": "code",
   "execution_count": 15,
   "metadata": {},
   "outputs": [
    {
     "name": "stdout",
     "output_type": "stream",
     "text": [
      "True\n"
     ]
    }
   ],
   "source": [
    "import re\n",
    "def p(phone):\n",
    "    pattern=\"^[6-9][0-9]{9}$\"\n",
    "    phone=str(phone)\n",
    "    if re.match(pattern,phone):\n",
    "        return True--\n",
    "    return False\n",
    "print(p(9903900396))"
   ]
  },
  {
   "cell_type": "code",
   "execution_count": 20,
   "metadata": {},
   "outputs": [
    {
     "name": "stdout",
     "output_type": "stream",
     "text": [
      "True\n"
     ]
    }
   ],
   "source": [
    "import re\n",
    "def p(phone):\n",
    "    pattern=\"^[0][4][0][2-4][0-9]{7}$\"\n",
    "    phone=str(phone)\n",
    "    if re.match(pattern,phone):\n",
    "        return True\n",
    "    return False\n",
    "print(p('04024665903'))"
   ]
  },
  {
   "cell_type": "code",
   "execution_count": 35,
   "metadata": {},
   "outputs": [
    {
     "name": "stdout",
     "output_type": "stream",
     "text": [
      "True\n"
     ]
    }
   ],
   "source": [
    "import re\n",
    "def r1(r):\n",
    "    p='^[2][2][1][8][1][0][3][0][4][0][1-9]{1}[1-9]{1}$'\n",
    "    r=str(r)\n",
    "    if re.match(p,r):\n",
    "        return True\n",
    "    else:\n",
    "        return False\n",
    "print(r1('221810304054'))    \n"
   ]
  },
  {
   "cell_type": "code",
   "execution_count": 13,
   "metadata": {},
   "outputs": [
    {
     "name": "stdout",
     "output_type": "stream",
     "text": [
      "True\n"
     ]
    }
   ],
   "source": [
    "import re\n",
    "def n1(n):\n",
    "    p='^[T][S][A-Z|0-9]{2}[A-Z|0-9]{2}[0-9]{4}$'\n",
    "    n=str(n)\n",
    "    if re.match(p,n):\n",
    "        return True\n",
    "    else:\n",
    "        return False\n",
    "print(n1('TSAB128188'))    \n"
   ]
  },
  {
   "cell_type": "code",
   "execution_count": 15,
   "metadata": {},
   "outputs": [
    {
     "name": "stdout",
     "output_type": "stream",
     "text": [
      "True\n"
     ]
    }
   ],
   "source": [
    "import re\n",
    "def em(i):\n",
    "    p='^[0-9a-z][0-9a-z_.]{4,13}[0-9a-z][@][a-z0-9]{3,18}[.][a-z]{2,4}$'\n",
    "    if re.match(p,i):\n",
    "        return True\n",
    "    else:\n",
    "        return False\n",
    "print(em('kalekar.rohan14@gmail.com')) "
   ]
  },
  {
   "cell_type": "code",
   "execution_count": null,
   "metadata": {},
   "outputs": [],
   "source": []
  }
 ],
 "metadata": {
  "kernelspec": {
   "display_name": "Python 3",
   "language": "python",
   "name": "python3"
  },
  "language_info": {
   "codemirror_mode": {
    "name": "ipython",
    "version": 3
   },
   "file_extension": ".py",
   "mimetype": "text/x-python",
   "name": "python",
   "nbconvert_exporter": "python",
   "pygments_lexer": "ipython3",
   "version": "3.7.3"
  }
 },
 "nbformat": 4,
 "nbformat_minor": 2
}
