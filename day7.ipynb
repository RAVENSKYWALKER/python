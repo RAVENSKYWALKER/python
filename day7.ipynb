{
 "cells": [
  {
   "cell_type": "markdown",
   "metadata": {},
   "source": [
    "## example 1"
   ]
  },
  {
   "cell_type": "code",
   "execution_count": 5,
   "metadata": {},
   "outputs": [
    {
     "name": "stdout",
     "output_type": "stream",
     "text": [
      "90\n"
     ]
    }
   ],
   "source": [
    "def even(n):\n",
    "    count=0\n",
    "    sum=0\n",
    "    while(count!=n):\n",
    "        if(count%2==0):\n",
    "            sum=sum+count\n",
    "        count=count+1\n",
    "    return sum;\n",
    "\n",
    "\n",
    "print(even(20))"
   ]
  },
  {
   "cell_type": "markdown",
   "metadata": {},
   "source": [
    "## example 2\n",
    "##### print factors of a number"
   ]
  },
  {
   "cell_type": "code",
   "execution_count": 14,
   "metadata": {},
   "outputs": [
    {
     "name": "stdout",
     "output_type": "stream",
     "text": [
      "1 2 4 5 10 "
     ]
    }
   ],
   "source": [
    "def factors(n):\n",
    "    i=1\n",
    "    while(i!=n):\n",
    "        if(n%i==0):\n",
    "            print(i,end=\" \")\n",
    "        i=i+1\n",
    "    return \n",
    "factors(20)"
   ]
  },
  {
   "cell_type": "markdown",
   "metadata": {},
   "source": [
    "## list\n"
   ]
  },
  {
   "cell_type": "code",
   "execution_count": 16,
   "metadata": {},
   "outputs": [
    {
     "name": "stdout",
     "output_type": "stream",
     "text": [
      "[1, 2, 3, 4]\n",
      "1\n"
     ]
    }
   ],
   "source": [
    "list1 = [1,2,3,4]\n",
    "print(list1)\n",
    "print(list1[0])"
   ]
  },
  {
   "cell_type": "code",
   "execution_count": 46,
   "metadata": {},
   "outputs": [
    {
     "name": "stdout",
     "output_type": "stream",
     "text": [
      "chinmay charith rohan "
     ]
    }
   ],
   "source": [
    "list1=[\"chinmay\",\"charith\",\"rohan\"]\n",
    "for i in list1:\n",
    "    print(i,end=\" \")\n",
    "    \n"
   ]
  },
  {
   "cell_type": "code",
   "execution_count": 28,
   "metadata": {},
   "outputs": [
    {
     "name": "stdout",
     "output_type": "stream",
     "text": [
      "1 2 3 4 5 6 \n",
      "6\n",
      "[3, 4, 5]\n",
      "[1, 2, 3, 4, 5, 6]\n",
      "[3, 4, 5, 6]\n"
     ]
    }
   ],
   "source": [
    "list1=[1,2,3,4,5,6]\n",
    "for i in list1:\n",
    "    print(i,end=\" \")\n",
    "print()\n",
    "print(list1[5])\n",
    "print(list1[2:5])\n",
    "print(list1[:6])\n",
    "print(list1[2:])"
   ]
  },
  {
   "cell_type": "code",
   "execution_count": 44,
   "metadata": {},
   "outputs": [
    {
     "name": "stdout",
     "output_type": "stream",
     "text": [
      "1 2 3 4 5 6 7 8 9 10 11 12 13 14 15 16 17 18 19 20 21 22 23 24 25 26 27 28 29 30 31 32 33 \n",
      "[2, 3, 4, 5, 6, 7, 8, 9, 10, 11, 12, 13, 14, 15, 16, 17, 18, 19, 20, 21, 22, 23, 24, 25, 26, 27, 28, 29, 30, 31, 32]\n",
      "[3, 4, 5, 6, 7, 8, 9, 10, 11, 12, 13, 14, 15, 16, 17, 18, 19, 20, 21, 22, 23, 24, 25, 26, 27, 28, 29, 30, 31]\n",
      "[2, 3, 4, 5, 6, 7, 8, 9, 10, 11, 12, 13, 14, 15, 16, 17, 18, 19, 20, 21, 22, 23, 24, 25, 26, 27, 28, 29, 30, 31]\n",
      "[]\n",
      "[1, 3, 5, 7, 9, 11, 13, 15, 17, 19, 21, 23, 25, 27, 29, 31, 33]\n",
      "[1, 10, 19, 28]\n"
     ]
    }
   ],
   "source": [
    "list1=[1,2,3,4,5,6,7,8,9,10,11,12,13,14,15,16,17,18,19,20,21,22,23,24,25,26,27,28,29,30,31,32,33,]\n",
    "for x in list1:\n",
    "    print(x,end=\" \")\n",
    "\n",
    "print()\n",
    "print(list1[1:-1])    \n",
    "print(list1[2:-2])\n",
    "print(list1[1:-2])\n",
    "print(list1[-1:2])\n",
    "print(list1[::2])\n",
    "print(list1[::9])"
   ]
  },
  {
   "cell_type": "code",
   "execution_count": 59,
   "metadata": {},
   "outputs": [
    {
     "name": "stdout",
     "output_type": "stream",
     "text": [
      "['chinmay', 'charith', 'rohan', 1, 2, 3, 3, 33]\n",
      "['chinmay', 'charith', 15, 1, 2, 3, 3, 33]\n",
      "['chinmay', 'charith', 15, 1, 3, 3, 33]\n",
      "['chinmay', 'charith', 15, 'gitam', 3, 3, 33]\n",
      "[2, 5, 7, 9]\n",
      "['chinmay', 'charith', 15, 'gitam', 3, 3, 33, 2, 5, 7, 9]\n",
      "['chinmay', 'charith', 15, 'gitam', 3, 3, 33, 15]\n",
      "2\n",
      "2\n"
     ]
    }
   ],
   "source": [
    "list1=[\"chinmay\",\"charith\",\"rohan\",1,2,3,3,33]\n",
    "print(list1)\n",
    "list1[2]=15\n",
    "print(list1)\n",
    "del list1[4]\n",
    "print(list1)\n",
    "list1[3]='gitam'\n",
    "print(list1)\n",
    "list2=[2,5,7,9]\n",
    "print(list2)\n",
    "print(list1+list2)\n",
    "list1.append(15)\n",
    "print(list1)\n",
    "print(list1.count(3))\n",
    "print(list1.count(3))\n"
   ]
  },
  {
   "cell_type": "markdown",
   "metadata": {},
   "source": [
    "## list methods"
   ]
  },
  {
   "cell_type": "code",
   "execution_count": 76,
   "metadata": {},
   "outputs": [
    {
     "name": "stdout",
     "output_type": "stream",
     "text": [
      "['charith', 'chinmay', 'rohan', 'gitam', 1, 2, 3, 4]\n",
      "2\n",
      "5\n",
      "['charith', 'chinmay', 'rohan', 'gitam', 20, 1, 2, 3, 4]\n",
      "['charith', 'chinmay', 'rohan', 'gitam', 20, 1, 2, 3, 4, 6]\n"
     ]
    }
   ],
   "source": [
    "list1=[\"charith\",\"chinmay\",\"rohan\",\"gitam\",1,2,3,4]\n",
    "print(list1)\n",
    "print(list1.index(\"rohan\"))\n",
    "\n",
    "print(list1.index(2))\n",
    "list1.insert(4,20)\n",
    "print(list1)\n",
    "list1.insert(11,6)\n",
    "print(list1)"
   ]
  },
  {
   "cell_type": "code",
   "execution_count": 79,
   "metadata": {},
   "outputs": [
    {
     "name": "stdout",
     "output_type": "stream",
     "text": [
      "['gitam', 'python']\n",
      "['python', 'gitam']\n"
     ]
    }
   ],
   "source": [
    "list1=['gitam','python','python']\n",
    "list1.remove('python')\n",
    "print(list1)\n",
    "list1.reverse()\n",
    "print(list1)"
   ]
  },
  {
   "cell_type": "markdown",
   "metadata": {},
   "source": [
    "## reverse"
   ]
  },
  {
   "cell_type": "code",
   "execution_count": null,
   "metadata": {},
   "outputs": [],
   "source": [
    "list1=['c','h','i','n','m','a','y']\n",
    "printt(li)"
   ]
  }
 ],
 "metadata": {
  "kernelspec": {
   "display_name": "Python 3",
   "language": "python",
   "name": "python3"
  },
  "language_info": {
   "codemirror_mode": {
    "name": "ipython",
    "version": 3
   },
   "file_extension": ".py",
   "mimetype": "text/x-python",
   "name": "python",
   "nbconvert_exporter": "python",
   "pygments_lexer": "ipython3",
   "version": "3.7.3"
  }
 },
 "nbformat": 4,
 "nbformat_minor": 2
}
