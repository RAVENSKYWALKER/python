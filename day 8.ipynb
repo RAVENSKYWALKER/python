{
 "cells": [
  {
   "cell_type": "markdown",
   "metadata": {},
   "source": [
    "## binary search"
   ]
  },
  {
   "cell_type": "code",
   "execution_count": 17,
   "metadata": {},
   "outputs": [
    {
     "name": "stdout",
     "output_type": "stream",
     "text": [
      "item found\n"
     ]
    }
   ],
   "source": [
    "def bins(a,l,r,s):\n",
    "    while(l<=r):\n",
    "        m=l+((r-l)//2)\n",
    "        if(a[m]==s):\n",
    "            return m\n",
    "        if(a[m]>s):\n",
    "            r=m-1\n",
    "        else:\n",
    "            l=m+1\n",
    "    return -1\n",
    "a=[1,2,3,4,5,6,7,8,9,10,22]\n",
    "res=bins(a,0,10,22)\n",
    "if(res!=-1):\n",
    "    print(\"item found\")\n",
    "else:\n",
    "    print(\"item not found\")\n"
   ]
  },
  {
   "cell_type": "markdown",
   "metadata": {},
   "source": [
    "## bubble sort"
   ]
  },
  {
   "cell_type": "code",
   "execution_count": 21,
   "metadata": {},
   "outputs": [
    {
     "name": "stdout",
     "output_type": "stream",
     "text": [
      "1 2 3 4 5 "
     ]
    }
   ],
   "source": [
    "def bubblesort(a):\n",
    "    for i in range(len(a)-1):\n",
    "         for j in range(len(a)-1):\n",
    "                if a[j]>a[j+1]:\n",
    "                    a[j],a[j+1]=a[j+1],a[j]\n",
    "    for i in range(len(a)):\n",
    "        print(a[i],end=\" \")\n",
    "list2=[5,4,3,2,1]\n",
    "bubblesort(list2)"
   ]
  },
  {
   "cell_type": "markdown",
   "metadata": {},
   "source": [
    " ## string"
   ]
  },
  {
   "cell_type": "code",
   "execution_count": 25,
   "metadata": {},
   "outputs": [
    {
     "name": "stdout",
     "output_type": "stream",
     "text": [
      "application\n",
      "application\n",
      "application is \n",
      "avaialable\n",
      "in th office\n"
     ]
    }
   ],
   "source": [
    "str = \"application\"\n",
    "print(str)\n",
    "str1=\"application\"\n",
    "print(str1)\n",
    "str2=\"\"\"application is \n",
    "avaialable\n",
    "in th office\"\"\"\n",
    "print(str2)"
   ]
  },
  {
   "cell_type": "code",
   "execution_count": 38,
   "metadata": {},
   "outputs": [
    {
     "name": "stdout",
     "output_type": "stream",
     "text": [
      "str[0] = a\n",
      "str[1] = p\n",
      "str[2] = p\n",
      "ppli\n",
      "noitacilppa\n",
      "aa\n",
      "application\n",
      "plicati\n"
     ]
    }
   ],
   "source": [
    "str=\"application\"\n",
    "print(\"str[0] =\",str[0])\n",
    "print(\"str[1] =\",str[1])\n",
    "print(\"str[2] =\",str[2])\n",
    "print(str[1:5])\n",
    "print(str[::-1])\n",
    "print(str[::6])\n",
    "print(str[::1])\n",
    "print(str[2:-2])"
   ]
  },
  {
   "cell_type": "markdown",
   "metadata": {},
   "source": [
    "## pallindrome\n"
   ]
  },
  {
   "cell_type": "code",
   "execution_count": 41,
   "metadata": {},
   "outputs": [
    {
     "name": "stdout",
     "output_type": "stream",
     "text": [
      "True\n",
      "False\n"
     ]
    }
   ],
   "source": [
    "def pal(s):\n",
    "    if(s==s[::-1]):\n",
    "        return True\n",
    "    else:\n",
    "        return False\n",
    "print(pal(\"naman\"))\n",
    "print(pal(\"pythonulu\"))\n"
   ]
  },
  {
   "cell_type": "code",
   "execution_count": 51,
   "metadata": {},
   "outputs": [
    {
     "name": "stdout",
     "output_type": "stream",
     "text": [
      "4\n"
     ]
    }
   ],
   "source": [
    "def letter(str,s):\n",
    "    str=str.lower()\n",
    "    count=0\n",
    "    i=0\n",
    "    while  i!= (len(str)-1):\n",
    "        if str[i]==s:\n",
    "            \n",
    "            count=count+1\n",
    "            \n",
    "        i=i+1\n",
    "    return(count)\n",
    "\n",
    "print(letter('chinmEeeey','e'))\n",
    "\n",
    "        \n",
    "        \n",
    "   "
   ]
  },
  {
   "cell_type": "markdown",
   "metadata": {},
   "source": [
    "## count digits"
   ]
  },
  {
   "cell_type": "code",
   "execution_count": 44,
   "metadata": {},
   "outputs": [
    {
     "name": "stdout",
     "output_type": "stream",
     "text": [
      "enter a number8888\n",
      "4\n"
     ]
    }
   ],
   "source": [
    "n=int(input(\"enter a number\"))\n",
    "cnt=0\n",
    "while n!=0:\n",
    "    cnt=cnt+1\n",
    "    n=n//10\n",
    "print(cnt)   \n",
    "    "
   ]
  },
  {
   "cell_type": "markdown",
   "metadata": {},
   "source": [
    "## count of char"
   ]
  },
  {
   "cell_type": "code",
   "execution_count": 46,
   "metadata": {},
   "outputs": [
    {
     "data": {
      "text/plain": [
       "14"
      ]
     },
     "execution_count": 46,
     "metadata": {},
     "output_type": "execute_result"
    }
   ],
   "source": [
    "\n",
    "def countofchar(str):\n",
    "    return len(str)\n",
    "countofchar(\"chinmeeeeeehhh\")"
   ]
  },
  {
   "cell_type": "markdown",
   "metadata": {},
   "source": [
    "## count of uppercase"
   ]
  },
  {
   "cell_type": "code",
   "execution_count": 5,
   "metadata": {},
   "outputs": [
    {
     "name": "stdout",
     "output_type": "stream",
     "text": [
      "3\n"
     ]
    }
   ],
   "source": [
    "def cou(lst):\n",
    "    count=0\n",
    "    lst=list(lst)\n",
    "    for x in range(len(lst)):\n",
    "        if ord(lst[x])>=65 and ord(lst[x])<=90:\n",
    "            count=count+1\n",
    "    return count\n",
    "    \n",
    "print(cou(\"appPPlicaTion\"))"
   ]
  },
  {
   "cell_type": "markdown",
   "metadata": {},
   "source": [
    "## print digits"
   ]
  },
  {
   "cell_type": "code",
   "execution_count": 37,
   "metadata": {},
   "outputs": [
    {
     "name": "stdout",
     "output_type": "stream",
     "text": [
      "15151!#$%"
     ]
    }
   ],
   "source": [
    "def prin(lst):\n",
    "    #lst=list(lst)\n",
    "    for x in range(len(lst)):\n",
    "        if ord(lst[x])>=33 and ord(lst[x])<=57:\n",
    "            print(lst[x],end=\"\")\n",
    "    \n",
    "    \n",
    "prin('Applications15151!@#drt$%')"
   ]
  },
  {
   "cell_type": "markdown",
   "metadata": {},
   "source": [
    "## add the digits"
   ]
  },
  {
   "cell_type": "code",
   "execution_count": 53,
   "metadata": {},
   "outputs": [
    {
     "name": "stdout",
     "output_type": "stream",
     "text": [
      "3\n"
     ]
    }
   ],
   "source": [
    "def lc(lst):\n",
    "    sum=0\n",
    "    for x in range(len(lst)):\n",
    "        if ord(lst[x])>=48 and ord(lst[x])<=57:\n",
    "            a=int(lst[x])\n",
    "            sum=sum+a\n",
    "    print(sum)\n",
    "  \n",
    "lc('apllication111')"
   ]
  },
  {
   "cell_type": "markdown",
   "metadata": {},
   "source": [
    "## add only even didgits to thr sum"
   ]
  },
  {
   "cell_type": "code",
   "execution_count": 76,
   "metadata": {},
   "outputs": [
    {
     "name": "stdout",
     "output_type": "stream",
     "text": [
      "16\n"
     ]
    }
   ],
   "source": [
    "def lc(lst):\n",
    "    sum=0\n",
    "   \n",
    "    for x in range(len(lst)):\n",
    "       \n",
    "            if ord(lst[x])>=48 and ord(lst[x])<=57:\n",
    "                a=int(lst[x])\n",
    "                if(a%2==0):\n",
    "                    sum=sum+a\n",
    "    print(sum)\n",
    "  \n",
    "lc('application7889')"
   ]
  },
  {
   "cell_type": "code",
   "execution_count": null,
   "metadata": {},
   "outputs": [],
   "source": []
  },
  {
   "cell_type": "code",
   "execution_count": null,
   "metadata": {},
   "outputs": [],
   "source": []
  }
 ],
 "metadata": {
  "kernelspec": {
   "display_name": "Python 3",
   "language": "python",
   "name": "python3"
  },
  "language_info": {
   "codemirror_mode": {
    "name": "ipython",
    "version": 3
   },
   "file_extension": ".py",
   "mimetype": "text/x-python",
   "name": "python",
   "nbconvert_exporter": "python",
   "pygments_lexer": "ipython3",
   "version": "3.7.3"
  }
 },
 "nbformat": 4,
 "nbformat_minor": 2
}
