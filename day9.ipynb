{
 "cells": [
  {
   "cell_type": "markdown",
   "metadata": {},
   "source": [
    "## is condtions"
   ]
  },
  {
   "cell_type": "code",
   "execution_count": 5,
   "metadata": {},
   "outputs": [
    {
     "name": "stdout",
     "output_type": "stream",
     "text": [
      "False\n",
      "python is a programming lamguage\n",
      "False\n",
      "PYTHON IS A PROGRAMMING LAMGUAGE\n"
     ]
    }
   ],
   "source": [
    "s='python Is a ProgrammINg lamguage'\n",
    "print(s.islower())\n",
    "print(s.lower())\n",
    "print(s.isupper())\n",
    "print(s.upper())"
   ]
  },
  {
   "cell_type": "code",
   "execution_count": 6,
   "metadata": {},
   "outputs": [
    {
     "name": "stdout",
     "output_type": "stream",
     "text": [
      "True\n",
      "True\n"
     ]
    }
   ],
   "source": [
    "s='CHINMAY'\n",
    "s1='a'\n",
    "print(s.isupper())\n",
    "print(s1.islower())"
   ]
  },
  {
   "cell_type": "code",
   "execution_count": 10,
   "metadata": {},
   "outputs": [
    {
     "name": "stdout",
     "output_type": "stream",
     "text": [
      "True\n",
      "False\n"
     ]
    }
   ],
   "source": [
    "s='5678'\n",
    "s1='a123'\n",
    "print(s.isnumeric())\n",
    "print(s1.isnumeric())"
   ]
  },
  {
   "cell_type": "code",
   "execution_count": 13,
   "metadata": {},
   "outputs": [
    {
     "name": "stdout",
     "output_type": "stream",
     "text": [
      "True\n",
      "False\n"
     ]
    }
   ],
   "source": [
    "s='application'\n",
    "s1='isjenr1'\n",
    "print(s.isalpha())\n",
    "print(s1.isalpha())"
   ]
  },
  {
   "cell_type": "code",
   "execution_count": 20,
   "metadata": {},
   "outputs": [
    {
     "name": "stdout",
     "output_type": "stream",
     "text": [
      "True\n"
     ]
    }
   ],
   "source": [
    "s='Chinmay Charith Rohan'\n",
    "print(s.istitle())"
   ]
  },
  {
   "cell_type": "code",
   "execution_count": 24,
   "metadata": {},
   "outputs": [
    {
     "name": "stdout",
     "output_type": "stream",
     "text": [
      "False\n"
     ]
    }
   ],
   "source": [
    "s='python'\n",
    "print(s.isspace())"
   ]
  },
  {
   "cell_type": "code",
   "execution_count": 29,
   "metadata": {},
   "outputs": [
    {
     "name": "stdout",
     "output_type": "stream",
     "text": [
      "p y t h o n\n"
     ]
    }
   ],
   "source": [
    "s='python'\n",
    "print(\" \".join(s))"
   ]
  },
  {
   "cell_type": "code",
   "execution_count": 35,
   "metadata": {},
   "outputs": [
    {
     "name": "stdout",
     "output_type": "stream",
     "text": [
      "chinmay,charith,rohan\n"
     ]
    }
   ],
   "source": [
    "print(\",\".join([\"chinmay\",\"charith\",\"rohan\"]))"
   ]
  },
  {
   "cell_type": "code",
   "execution_count": 44,
   "metadata": {},
   "outputs": [
    {
     "name": "stdout",
     "output_type": "stream",
     "text": [
      "['chinmay', 'charith', 'rohan']\n"
     ]
    }
   ],
   "source": [
    "s=\"chinmay-charith-rohan\"\n",
    "print(s.split('-'))"
   ]
  },
  {
   "cell_type": "code",
   "execution_count": 1,
   "metadata": {},
   "outputs": [
    {
     "name": "stdout",
     "output_type": "stream",
     "text": [
      "['p', 'y', 't', 'h', 'o', 'n', ' ', 'i', 's', ' ', 'a', ' ', 'p', 'r', 'o', 'g', 't', 'a', 'm', 'm', 'i', 'n', 'g', ' ', 'l', 'a', 'n', 'g', 'u', 'a', 'g', 'e']\n"
     ]
    }
   ],
   "source": [
    "s=\"python is a progtamming language\"\n",
    "lst=list(s)\n",
    "print(lst)"
   ]
  },
  {
   "cell_type": "markdown",
   "metadata": {},
   "source": [
    "## replace"
   ]
  },
  {
   "cell_type": "code",
   "execution_count": 52,
   "metadata": {},
   "outputs": [
    {
     "name": "stdout",
     "output_type": "stream",
     "text": [
      "python proapplicationmming\n"
     ]
    }
   ],
   "source": [
    "s=\"python programming\"\n",
    "print(s.replace(\"gra\",\"application\"))\n"
   ]
  },
  {
   "cell_type": "markdown",
   "metadata": {},
   "source": [
    "## python tuples"
   ]
  },
  {
   "cell_type": "code",
   "execution_count": 3,
   "metadata": {},
   "outputs": [
    {
     "name": "stdout",
     "output_type": "stream",
     "text": [
      "python\n",
      "progtaming\n"
     ]
    }
   ],
   "source": [
    "s='python','progtaming',100,125,'machine learning'\n",
    "print(s[0])\n",
    "print(s[1])"
   ]
  },
  {
   "cell_type": "code",
   "execution_count": 5,
   "metadata": {},
   "outputs": [
    {
     "name": "stdout",
     "output_type": "stream",
     "text": [
      "rohan\n",
      "(22, 23, 2)\n",
      "66\n",
      "(22, 23, 2)\n"
     ]
    }
   ],
   "source": [
    "s='rohan',22,23,2,4,5,66\n",
    "print(s[0])\n",
    "print(s[1:4])\n",
    "print(s[-1])\n",
    "print(s[1:-3])"
   ]
  },
  {
   "cell_type": "code",
   "execution_count": 7,
   "metadata": {},
   "outputs": [
    {
     "name": "stdout",
     "output_type": "stream",
     "text": [
      "('python', 'progtaming', 100, 125, 'machine learning')\n"
     ]
    },
    {
     "ename": "NameError",
     "evalue": "name 's' is not defined",
     "output_type": "error",
     "traceback": [
      "\u001b[1;31m---------------------------------------------------------------------------\u001b[0m",
      "\u001b[1;31mNameError\u001b[0m                                 Traceback (most recent call last)",
      "\u001b[1;32m<ipython-input-7-fff632c62dc9>\u001b[0m in \u001b[0;36m<module>\u001b[1;34m\u001b[0m\n\u001b[0;32m      2\u001b[0m \u001b[0mprint\u001b[0m\u001b[1;33m(\u001b[0m\u001b[0ms\u001b[0m\u001b[1;33m)\u001b[0m\u001b[1;33m\u001b[0m\u001b[1;33m\u001b[0m\u001b[0m\n\u001b[0;32m      3\u001b[0m \u001b[1;32mdel\u001b[0m \u001b[0ms\u001b[0m\u001b[1;33m\u001b[0m\u001b[1;33m\u001b[0m\u001b[0m\n\u001b[1;32m----> 4\u001b[1;33m \u001b[0mprint\u001b[0m\u001b[1;33m(\u001b[0m\u001b[0ms\u001b[0m\u001b[1;33m)\u001b[0m\u001b[1;33m\u001b[0m\u001b[1;33m\u001b[0m\u001b[0m\n\u001b[0m",
      "\u001b[1;31mNameError\u001b[0m: name 's' is not defined"
     ]
    }
   ],
   "source": [
    "s='python','progtaming',100,125,'machine learning'\n",
    "print(s)\n",
    "del s\n",
    "print(s) "
   ]
  },
  {
   "cell_type": "code",
   "execution_count": 12,
   "metadata": {},
   "outputs": [
    {
     "name": "stdout",
     "output_type": "stream",
     "text": [
      "('python', 'programming', 12, 23, 35, 'ts')\n"
     ]
    }
   ],
   "source": [
    "t='python','programming'\n",
    "t1=12,23,35,'ts'\n",
    "t3=t+t1\n",
    "\n",
    "print(t3)\n"
   ]
  },
  {
   "cell_type": "markdown",
   "metadata": {},
   "source": [
    "# python dictionary"
   ]
  },
  {
   "cell_type": "code",
   "execution_count": 19,
   "metadata": {},
   "outputs": [
    {
     "name": "stdout",
     "output_type": "stream",
     "text": [
      "user[name] =  maneesh\n",
      "user[age] =  19\n",
      "user[address] =  dubai\n",
      "user[email] =  chinnnnmay@gmail.com\n",
      "user[address] =  HOSteL\n",
      "5\n"
     ]
    }
   ],
   "source": [
    "user={'name':'maneesh','age':'19','address':'dubai','email':'chinnnnmay@gmail.com','phone':'9090909090'}\n",
    "print('user[name] = ',user['name'])\n",
    "print('user[age] = ',user['age'])\n",
    "print('user[address] = ',user['address'])\n",
    "print('user[email] = ',user['email'])\n",
    "user['address']='HOSteL'\n",
    "print('user[address] = ',user['address'])\n",
    "print(len(user)"
   ]
  },
  {
   "cell_type": "code",
   "execution_count": 18,
   "metadata": {},
   "outputs": [
    {
     "name": "stdout",
     "output_type": "stream",
     "text": [
      "{'name': 'maneesh', 'address': 'dubai', 'email': 'chinnnnmay@gmail.com', 'phone': '9090909090'}\n",
      "{}\n"
     ]
    }
   ],
   "source": [
    "user={'name':'maneesh','age':'19','address':'dubai','email':'chinnnnmay@gmail.com','phone':'9090909090'}\n",
    "del user['age']\n",
    "print(user)\n",
    "user.clear()\n",
    "print(user)\n",
    "del user\n"
   ]
  },
  {
   "cell_type": "code",
   "execution_count": 20,
   "metadata": {},
   "outputs": [
    {
     "name": "stdout",
     "output_type": "stream",
     "text": [
      "5\n"
     ]
    }
   ],
   "source": [
    "user={'name':'maneesh','age':'19','address':'dubai','email':'chinnnnmay@gmail.com','phone':'9090909090'}\n",
    "\n",
    "print(len(user))\n"
   ]
  },
  {
   "cell_type": "code",
   "execution_count": 22,
   "metadata": {},
   "outputs": [
    {
     "name": "stdout",
     "output_type": "stream",
     "text": [
      "{'name': 'maneesh', 'age': '19', 'address': 'dubai', 'email': 'chinnnnmay@gmail.com', 'phone': '9090909090', 'college': 'pritam'}\n"
     ]
    }
   ],
   "source": [
    "user={'name':'maneesh','age':'19','address':'dubai','email':'chinnnnmay@gmail.com','phone':'9090909090'}\n",
    "user['college']='pritam'\n",
    "print(user)"
   ]
  },
  {
   "cell_type": "code",
   "execution_count": 31,
   "metadata": {},
   "outputs": [
    {
     "name": "stdout",
     "output_type": "stream",
     "text": [
      "dict_values(['maneesh', '19', 'dubai', 'chinnnnmay@gmail.com', '9090909090'])\n",
      "dict_values(['maneesh', '19', 'dubai', 'chinnnnmay@gmail.com', '9090909090'])\n",
      "{}\n",
      "dict_items([('name', 'maneesh'), ('age', '19'), ('address', 'dubai'), ('email', 'chinnnnmay@gmail.com'), ('phone', '9090909090')])\n"
     ]
    }
   ],
   "source": [
    "user={'name':'maneesh','age':'19','address':'dubai','email':'chinnnnmay@gmail.com','phone':'9090909090'}\n",
    "print(user.values())\n",
    "user1=user.copy()\n",
    "print(user1.values())\n",
    "user.clear()\n",
    "print(user)\n",
    "print(user1.items())"
   ]
  },
  {
   "cell_type": "code",
   "execution_count": 33,
   "metadata": {},
   "outputs": [
    {
     "name": "stdout",
     "output_type": "stream",
     "text": [
      "python programing\n"
     ]
    }
   ],
   "source": [
    "list=['python','programing']\n",
    "print(\"%s %s\"%(list[0],list[1]))"
   ]
  },
  {
   "cell_type": "code",
   "execution_count": 35,
   "metadata": {},
   "outputs": [
    {
     "name": "stdout",
     "output_type": "stream",
     "text": [
      "python programing\n"
     ]
    }
   ],
   "source": [
    "list=['python','programing']\n",
    "print(\"{0} {1}\".format(list[0],list[1]))"
   ]
  },
  {
   "cell_type": "markdown",
   "metadata": {},
   "source": [
    "## add directory"
   ]
  },
  {
   "cell_type": "code",
   "execution_count": 2,
   "metadata": {},
   "outputs": [
    {
     "name": "stdout",
     "output_type": "stream",
     "text": [
      "contact charith added\n",
      "{'charith': 7032441120}\n",
      "already  exesists\n",
      "{'charith': 7032441120}\n"
     ]
    }
   ],
   "source": [
    "co={}\n",
    "def adc(name,phone):\n",
    "    if name not in co:\n",
    "        co[name]=phone\n",
    "        print('contact %s added'%name)\n",
    "    else:\n",
    "        print('already  exesists')\n",
    "    return\n",
    "adc('charith',7032441120)\n",
    "print(co)\n",
    "adc('charith',98989898)\n",
    "print(co)"
   ]
  },
  {
   "cell_type": "markdown",
   "metadata": {},
   "source": [
    "## add to list"
   ]
  },
  {
   "cell_type": "code",
   "execution_count": 3,
   "metadata": {},
   "outputs": [
    {
     "name": "stdout",
     "output_type": "stream",
     "text": [
      "7032441120\n",
      "rohan contact doesnt exesists\n"
     ]
    }
   ],
   "source": [
    "def ser(name):\n",
    "    if name in co:\n",
    "        print(co[name])\n",
    "    else:\n",
    "        print('%s contact doesnt exesists'%name)\n",
    "    return\n",
    "ser('charith')\n",
    "ser('rohan')\n",
    "        "
   ]
  },
  {
   "cell_type": "markdown",
   "metadata": {},
   "source": [
    "## listing of all contacts"
   ]
  },
  {
   "cell_type": "code",
   "execution_count": 8,
   "metadata": {},
   "outputs": [
    {
     "name": "stdout",
     "output_type": "stream",
     "text": [
      "2 contacts added\n",
      "{'rohan': 454565898, 'charith': 454546565}\n"
     ]
    }
   ],
   "source": [
    "def con(newcontacts):\n",
    "    co.update(newcontacts)\n",
    "    print(len(newcontacts.keys()),'contacts added')\n",
    "    return\n",
    "newcontacts={'charith':454546565,'rohan':454565898}\n",
    "con(newcontacts)\n",
    "print(co)"
   ]
  },
  {
   "cell_type": "markdown",
   "metadata": {},
   "source": [
    "## delete contact"
   ]
  },
  {
   "cell_type": "code",
   "execution_count": 7,
   "metadata": {},
   "outputs": [
    {
     "name": "stdout",
     "output_type": "stream",
     "text": [
      "charith : is deleted from contacts\n"
     ]
    }
   ],
   "source": [
    "def dele(name):\n",
    "    if name in co:\n",
    "        del co[name]\n",
    "        print(name,': is deleted from contacts')\n",
    "    else:\n",
    "        print(name,\"do not exiists in contacts\")\n",
    "    return\n",
    "dele('charith')\n",
    "\n",
    "        "
   ]
  },
  {
   "cell_type": "markdown",
   "metadata": {},
   "source": [
    "## modify"
   ]
  },
  {
   "cell_type": "code",
   "execution_count": 10,
   "metadata": {},
   "outputs": [
    {
     "name": "stdout",
     "output_type": "stream",
     "text": [
      "charith updated\n",
      "{'rohan': 454565898, 'charith': 454545}\n"
     ]
    }
   ],
   "source": [
    "def mod(name,phone):\n",
    "    if name in co:\n",
    "        co[name]=phone\n",
    "        print(name,'updated')\n",
    "    else:\n",
    "        print(name,'doesnt exesist')\n",
    "    return\n",
    "mod('charith',454545)\n",
    "print(co)"
   ]
  },
  {
   "cell_type": "code",
   "execution_count": null,
   "metadata": {},
   "outputs": [],
   "source": []
  }
 ],
 "metadata": {
  "kernelspec": {
   "display_name": "Python 3",
   "language": "python",
   "name": "python3"
  },
  "language_info": {
   "codemirror_mode": {
    "name": "ipython",
    "version": 3
   },
   "file_extension": ".py",
   "mimetype": "text/x-python",
   "name": "python",
   "nbconvert_exporter": "python",
   "pygments_lexer": "ipython3",
   "version": "3.7.3"
  }
 },
 "nbformat": 4,
 "nbformat_minor": 2
}
